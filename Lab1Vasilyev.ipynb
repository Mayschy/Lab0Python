{
 "cells": [
  {
   "cell_type": "markdown",
   "id": "906e58cb-e844-4a8f-964a-c56103947446",
   "metadata": {},
   "source": [
    "# **Джибуті**\n",
    "\n",
    "## Загальна інформація\n",
    "\n",
    "**Джибуті** — країна в Східній Африці. Вона межує з Еритреєю на півночі, Ефіопією на заході та півдні, Сомалі на південному сході, і з Червоним морем та Аденською затокою на сході.\n",
    "\n",
    "### Населення та площа\n",
    "\n",
    "- **Населення:** ~988,000 осіб (станом на 2023 рік)\n",
    "- **Площа:** 23,200 км²\n",
    "\n",
    "### Державний устрій\n",
    "\n",
    "**Тип державного устрою:** Президентська республіка.\n",
    "\n",
    "### Видатні персоналії\n",
    "\n",
    "- **Ісмаїл Омар Гелле:** Президент Джибуті.\n",
    "- **Муса Ібрагім Богоре:** Відомий діяч культури.\n",
    "\n",
    "### Пам'ятки культури та природи\n",
    "\n",
    "1. **Озеро Ассаль** - саме низьке місце на континенті Африка.\n",
    "2. **Гора Муса Алі** - найвища точка в Джибуті.\n",
    "3. **Затока Таджура** - відомий дайвінг-центр.\n",
    "\n",
    "---\n",
    "\n",
    "## Таблиця населення великих міст\n",
    "\n",
    "| Місто         | Населення    |\n",
    "|---------------|--------------|\n",
    "| Джибуті       | 600,000      |\n",
    "| Алі Сабіє     | 40,000       |\n",
    "| Таджура       | 50,000       |\n",
    "| Дікхіл        | 25,000       |\n",
    "\n",
    "## Картинка\n",
    "\n",
    "![Карта Джибуті](https://upload.wikimedia.org/wikipedia/commons/thumb/a/a7/The_Regions_of_Djibouti.png/1280px-The_Regions_of_Djibouti.png)\n",
    "\n",
    "## Гіперпосилання\n",
    "\n",
    "Детальніше про [Джибуті](https://en.wikipedia.org/wiki/Djibouti).\n"
   ]
  },
  {
   "cell_type": "code",
   "execution_count": 2,
   "id": "81044369-013f-4620-866c-a89869c358a1",
   "metadata": {
    "scrolled": true
   },
   "outputs": [
    {
     "data": {
      "text/html": [
       "<h2>Флаг країни</h2>\n",
       "\n",
       "<svg width=\"200\" height=\"100\">\n",
       "\n",
       "    <rect width=\"200\" height=\"50\" style=\"fill:rgb(0,123,255)\" />\n",
       "    <rect y=\"50\" width=\"200\" height=\"50\" style=\"fill:rgb(0,204,102)\" />\n",
       "    <polygon points=\"0,0 100,50 0,100\" style=\"fill:rgb(255,255,255)\" />\n",
       "    <!-- Червона зірка -->\n",
       "    <polygon points=\"40,27 45,42 60,42 48,52 53,67 40,57 27,67 32,52 20,42 35,42\" style=\"fill:rgb(255,0,0)\" />\n",
       "</svg>\n",
       "\n"
      ],
      "text/plain": [
       "<IPython.core.display.HTML object>"
      ]
     },
     "metadata": {},
     "output_type": "display_data"
    }
   ],
   "source": [
    "%%HTML\n",
    "<h2>Флаг країни</h2>\n",
    "\n",
    "<svg width=\"200\" height=\"100\">\n",
    "\n",
    "    <rect width=\"200\" height=\"50\" style=\"fill:rgb(0,123,255)\" />\n",
    "    <rect y=\"50\" width=\"200\" height=\"50\" style=\"fill:rgb(0,204,102)\" />\n",
    "    <polygon points=\"0,0 100,50 0,100\" style=\"fill:rgb(255,255,255)\" />\n",
    "    <!-- Червона зірка -->\n",
    "    <polygon points=\"40,27 45,42 60,42 48,52 53,67 40,57 27,67 32,52 20,42 35,42\" style=\"fill:rgb(255,0,0)\" />\n",
    "</svg>\n",
    "\n"
   ]
  },
  {
   "cell_type": "code",
   "execution_count": null,
   "id": "d0d06c8d-e889-4cf3-bf09-bdfcdb8900ed",
   "metadata": {},
   "outputs": [],
   "source": [
    "def task_4():\n",
    "    input_list = list(map(int, input(\"Введіть список чисел через пробіл: \").split()))\n",
    "    n = len(input_list)\n",
    "    swaps = 0\n",
    "    for i in range(n - 1):\n",
    "        for j in range(n - i - 1):\n",
    "            if input_list[j] > input_list[j + 1]:\n",
    "                input_list[j], input_list[j + 1] = input_list[j + 1], input_list[j]\n",
    "                swaps += 1\n",
    "\n",
    "    print(f\"Було виконано {swaps} переставлень\")\n",
    "task_4()  #: 5 6 23 8 12 5\n",
    "task_4()  #: 7 3 1 7 4 2 8 2\n"
   ]
  },
  {
   "cell_type": "code",
   "execution_count": null,
   "id": "2eff9d08-8644-42ba-b023-e5bdebb40d75",
   "metadata": {},
   "outputs": [],
   "source": []
  }
 ],
 "metadata": {
  "kernelspec": {
   "display_name": "Python 3 (ipykernel)",
   "language": "python",
   "name": "python3"
  },
  "language_info": {
   "codemirror_mode": {
    "name": "ipython",
    "version": 3
   },
   "file_extension": ".py",
   "mimetype": "text/x-python",
   "name": "python",
   "nbconvert_exporter": "python",
   "pygments_lexer": "ipython3",
   "version": "3.12.4"
  }
 },
 "nbformat": 4,
 "nbformat_minor": 5
}
